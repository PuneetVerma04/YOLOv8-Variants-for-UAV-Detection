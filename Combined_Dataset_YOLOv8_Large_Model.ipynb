{
 "cells": [
  {
   "cell_type": "code",
   "execution_count": null,
   "metadata": {},
   "outputs": [],
   "source": [
    "pip install ultralytics"
   ]
  },
  {
   "cell_type": "code",
   "execution_count": null,
   "metadata": {},
   "outputs": [],
   "source": [
    "import ultralytics\n",
    "ultralytics.checks()"
   ]
  },
  {
   "cell_type": "code",
   "execution_count": null,
   "metadata": {},
   "outputs": [],
   "source": [
    "from ultralytics import YOLO\n",
    "\n",
    "# Loading YOLOv8l model\n",
    "model= YOLO('yolov8l.pt')  # YOLOv8 Large model\n",
    "# Load the dataset\n",
    "# The dataset should be in YOLO format with a YAML file describing the dataset\n",
    "data_path = \"data.yaml\"  # Path to dataset YAML\n",
    "\n",
    "# YOLOv8s training\n",
    "results_s = model.train(\n",
    "    data=data_path,    # Dataset path\n",
    "    epochs=25,         # Number of epochs\n",
    "    imgsz=720,         # Image size after resizing\n",
    "    batch=4,          # Batch size\n",
    "    name='Combined_L',  # Experiment name for YOLOv8L\n",
    "    device=0           # Use GPU (0 refers to the default GPU)\n",
    ")\n",
    "\n",
    "model.save('YOLOv8L_Combined.pt')"
   ]
  }
 ],
 "metadata": {
  "kernelspec": {
   "display_name": "yolo_env",
   "language": "python",
   "name": "python3"
  },
  "language_info": {
   "codemirror_mode": {
    "name": "ipython",
    "version": 3
   },
   "file_extension": ".py",
   "mimetype": "text/x-python",
   "name": "python",
   "nbconvert_exporter": "python",
   "pygments_lexer": "ipython3",
   "version": "3.12.7"
  }
 },
 "nbformat": 4,
 "nbformat_minor": 2
}
