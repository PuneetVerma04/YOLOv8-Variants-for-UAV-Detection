{
 "cells": [
  {
   "cell_type": "code",
   "execution_count": null,
   "metadata": {},
   "outputs": [],
   "source": [
    "pip install ultralytics"
   ]
  },
  {
   "cell_type": "code",
   "execution_count": null,
   "metadata": {},
   "outputs": [],
   "source": [
    "import ultralytics\n",
    "ultralytics.checks()"
   ]
  },
  {
   "cell_type": "code",
   "execution_count": null,
   "metadata": {},
   "outputs": [],
   "source": [
    "from ultralytics import YOLO\n",
    "\n",
    "# Load YOLOv8s and YOLOv8l models\n",
    "model= YOLO('yolov8s.pt')  # YOLOv8 Small\n",
    "\n",
    "\n",
    "data_path = \"data.yaml\"  # Path to your dataset YAML\n",
    "\n",
    "# YOLOv8s training\n",
    "results_s = model.train(\n",
    "    data=data_path,    # Dataset path\n",
    "    epochs=25,         # Number of epochs\n",
    "    imgsz=720,         # Image size after resizing\n",
    "    batch=16,          # Batch size\n",
    "    name='Combined_S',  # Experiment name for YOLOv8s\n",
    "    device=0           # Use GPU (0 refers to the default GPU)\n",
    ")\n",
    "\n",
    "model.save('combined_S.pt')\n",
    "\n"
   ]
  }
 ],
 "metadata": {
  "kernelspec": {
   "display_name": "yolo_env",
   "language": "python",
   "name": "python3"
  },
  "language_info": {
   "codemirror_mode": {
    "name": "ipython",
    "version": 3
   },
   "file_extension": ".py",
   "mimetype": "text/x-python",
   "name": "python",
   "nbconvert_exporter": "python",
   "pygments_lexer": "ipython3",
   "version": "3.12.7"
  }
 },
 "nbformat": 4,
 "nbformat_minor": 2
}
