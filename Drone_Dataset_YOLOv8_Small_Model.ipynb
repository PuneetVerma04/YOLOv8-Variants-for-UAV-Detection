{
 "cells": [
  {
   "cell_type": "code",
   "execution_count": null,
   "id": "aa2c4443-e4aa-49b2-b13c-b1dc282423f3",
   "metadata": {},
   "outputs": [],
   "source": [
    "pip install ultralytics"
   ]
  },
  {
   "cell_type": "code",
   "execution_count": null,
   "id": "a7efdfdb-a9e2-4a9b-ae23-d025e9862aff",
   "metadata": {},
   "outputs": [],
   "source": [
    "import ultralytics\n",
    "ultralytics.checks()"
   ]
  },
  {
   "cell_type": "code",
   "execution_count": null,
   "id": "1ba5db80-08a9-4f6e-af17-84a0ffa96d8f",
   "metadata": {},
   "outputs": [],
   "source": [
    "from ultralytics import YOLO\n",
    "\n",
    "from IPython.display import display, Image"
   ]
  },
  {
   "cell_type": "code",
   "execution_count": null,
   "id": "1d962266-c649-4b7f-8e0e-41f6072d20b7",
   "metadata": {},
   "outputs": [],
   "source": [
    "from ultralytics import YOLO\n",
    "\n",
    "model = YOLO('yolov8s.pt')  \n",
    "device = 'cuda'\n",
    "results = model.train(\n",
    "    data='data.yaml',  \n",
    "    epochs=25,           \n",
    "    imgsz=640,            \n",
    "    batch=16,             \n",
    "    name='Drone_S',\n",
    "    device=device  \n",
    ")\n",
    "\n",
    "model.save(\"best_model.pt\") \n"
   ]
  }
 ],
 "metadata": {
  "kernelspec": {
   "display_name": "yolo_env",
   "language": "python",
   "name": "python3"
  },
  "language_info": {
   "codemirror_mode": {
    "name": "ipython",
    "version": 3
   },
   "file_extension": ".py",
   "mimetype": "text/x-python",
   "name": "python",
   "nbconvert_exporter": "python",
   "pygments_lexer": "ipython3",
   "version": "3.12.7"
  }
 },
 "nbformat": 4,
 "nbformat_minor": 5
}
